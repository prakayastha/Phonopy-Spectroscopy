{
  "nbformat": 4,
  "nbformat_minor": 0,
  "metadata": {
    "colab": {
      "name": "Untitled1.ipynb",
      "provenance": [],
      "authorship_tag": "ABX9TyODw7hWU39qiQ9Qxvs7Q7nQ",
      "include_colab_link": true
    },
    "kernelspec": {
      "name": "python3",
      "display_name": "Python 3"
    },
    "language_info": {
      "name": "python"
    }
  },
  "cells": [
    {
      "cell_type": "markdown",
      "metadata": {
        "id": "view-in-github",
        "colab_type": "text"
      },
      "source": [
        "<a href=\"https://colab.research.google.com/github/prakayastha/Phonopy-Spectroscopy/blob/master/benzene.ipynb\" target=\"_parent\"><img src=\"https://colab.research.google.com/assets/colab-badge.svg\" alt=\"Open In Colab\"/></a>"
      ]
    },
    {
      "cell_type": "code",
      "execution_count": 58,
      "metadata": {
        "id": "MfXdL5YPbULy"
      },
      "outputs": [],
      "source": [
        "from scipy import constants, signal\n",
        "from numpy import array, reshape, zeros, ones, linalg, identity, float64, append, sqrt, arange, newaxis, delete, sum\n",
        "import copy, os, shutil\n",
        "from sklearn import preprocessing\n",
        "import numpy as np\n",
        "import time\n",
        "import sys\n",
        "from pylab import figure\n",
        "from pylab import savetxt, transpose, eig, argsort, sort, sign, pi, dot, sum, linspace, argmin, r_, convolve\n",
        "def lorentz(pi,g,x):\n",
        "    \"\"\"\n",
        "      Lorentzian function\n",
        "    \"\"\"\n",
        "    x0 = (x.max()-x.min())-x.min()\n",
        "    lr = ((g**2)/((x-0.5*x0)**2+g**2))\n",
        "    return lr - lr.min()\n",
        "\n",
        "broadening = 5"
      ]
    },
    {
      "cell_type": "code",
      "source": [
        "freq = np.array([-8.663247,-0.000053, 0.000018, 0.000029, 6.143597, 6.318212, 396.012626, 396.358891, 601.600563, 601.698033, 661.983599, 704.751636, 835.119472, 835.711240, 955.901133, 956.404500, 984.343029, 994.356405, 996.387446, 1035.219410, 1035.301336, 1139.748682, 1162.761387, 1162.926922, 1335.154784, 1340.085884, 1467.124707, 1467.288627, 1590.531373, 1590.714639, 3088.633274, 3098.112947, 3098.270202, 3112.422319, 3113.372277, 3122.915830])\n",
        "infrared_intensity = np.array([0.000000, 0.000000, 0.000000, 0.000000, 0.000000, 0.000000, 0.000000, 0.000000, 0.000000, 0.000000, 0.108995, 0.000000, 0.000000, 0.000000, 0.000000, 0.000000, 0.000000, 0.000000, 0.002191, 0.016831, 0.016890, 0.000086, 0.000000, 0.000000, 0.000000, 0.002296, 0.005955, 0.006003, 0.000000, 0.000000, 0.000216, 0.000000, 0.000000, 0.020573, 0.020505, 0.000000])\n",
        "x=linspace(freq.min()-500,freq.max()+500,1000)\n",
        "z=zeros(len(x))\n",
        "z2=zeros(len(x))\n",
        "\n",
        "for i in range(len(freq)):\n",
        "        z[argmin(abs(x-freq[i]))]=infrared_intensity[i]\n",
        "window_len=150\n",
        "lorentzian=lorentz(pi,broadening,arange(250))#signal.gaussian(window_len,broadening)\n",
        "s=r_[z[window_len-1:0:-1],z,z[-1:-window_len:-1]]\n",
        "z_convolve=convolve(lorentzian/lorentzian.sum(),s,mode='same')[window_len-1:-window_len+1]\n",
        "fig=figure(0)\n",
        "ax=fig.add_subplot(111)\n",
        "ax.plot(x,z_convolve,'r',lw=2)\n",
        "ax.set_xlim([freq.min()+90,freq.max()+50])\n",
        "ax.set_ylim([-0.008,ax.get_ylim()[1]])\n",
        "#ax.set_ylim([0,0.01])\n",
        "ax.set_yticks([])\n",
        "ax.set_xlabel('Frequency [1/cm]',size=20)\n",
        "ax.set_ylabel('Intensity [a.u.]',size=20)\n",
        "\n",
        "#fig.savefig(name+'_IR_spectrum.pdf')"
      ],
      "metadata": {
        "colab": {
          "base_uri": "https://localhost:8080/",
          "height": 306
        },
        "id": "D4aC1SDQbZnJ",
        "outputId": "c979aa2a-9827-43cc-d9d6-f1511aedbe7c"
      },
      "execution_count": 59,
      "outputs": [
        {
          "output_type": "execute_result",
          "data": {
            "text/plain": [
              "Text(0, 0.5, 'Intensity [a.u.]')"
            ]
          },
          "metadata": {},
          "execution_count": 59
        },
        {
          "output_type": "display_data",
          "data": {
            "text/plain": [
              "<Figure size 432x288 with 1 Axes>"
            ],
            "image/png": "[encoded data removed]"
          },
          "metadata": {
            "needs_background": "light"
          }
        }
      ]
    },
    {
      "cell_type": "code",
      "source": [
        "array1 = np.array([ 0.00000000 , 0.00000000 , 0.00000000 , 0.00000000 , 0.00000000 , 0.00000000 , 0.00000003 , 0.00000000 , 0.00000000 , 0.00000000 , 2.52923572 , 0.00000000 , 0.00000000 , 0.00000000 , 0.00000717 , 0.00000025 , 0.00000000 , 0.00000000 , 0.00000031 , 0.13325128 , 0.13283967 , 0.00000002 , 0.00000000 , 0.00000000 , 0.00000000 , 0.00000009 , 0.14714692 , 0.14689549 , 0.00000000 , 0.00000000 , 0.00062211 , 0.00000000 , 0.00000000 , 0.83870275 , 0.83801780 , 0.00000000  ])\n",
        "norm = np.linalg.norm(array1)\n",
        "normal_array = array1/norm\n",
        "freq = np.array([-1.55300893,  -0.00138099,  -0.00104277,  -0.00091834,  1.51236314,  1.52279259,  396.19525496,  396.52268247,  601.63893704,  601.76653247,  662.95302337,  704.88067593,  835.35307943,  836.18641222,  956.45085660,  956.68605313,  984.75713952,  994.30673185,  996.44901802,  1035.26377363,  1035.37967877,  1139.86549942,  1162.84124705,  1162.99674859,  1335.31206439,  1340.04453586,  1467.18969605,  1467.48298386,  1590.57634054,  1590.68805872,  3088.40493949,  3097.77953175,  3098.16116190,  3111.99972120,  3113.39293086,  3122.68489043 ])\n",
        "infrared_intensity = normal_array\n",
        "x=linspace(freq.min()-500,freq.max()+500,1000)\n",
        "z=zeros(len(x))\n",
        "z2=zeros(len(x))\n",
        "\n",
        "for i in range(len(freq)):\n",
        "        z[argmin(abs(x-freq[i]))]=infrared_intensity[i]\n",
        "window_len=150\n",
        "lorentzian=lorentz(pi,broadening,arange(250))#signal.gaussian(window_len,broadening)\n",
        "s=r_[z[window_len-1:0:-1],z,z[-1:-window_len:-1]]\n",
        "z_convolve=convolve(lorentzian/lorentzian.sum(),s,mode='same')[window_len-1:-window_len+1]\n",
        "fig=figure(0)\n",
        "ax=fig.add_subplot(111)\n",
        "ax.plot(x,z_convolve,'r',lw=2)\n",
        "ax.set_xlim([freq.min()+90,freq.max()+50])\n",
        "ax.set_ylim([-0.008,ax.get_ylim()[1]])\n",
        "ax.set_ylim([0,0.005])\n",
        "ax.set_yticks([])\n",
        "ax.set_xlabel('Frequency [1/cm]',size=20)\n",
        "ax.set_ylabel('Intensity [a.u.]',size=20)"
      ],
      "metadata": {
        "colab": {
          "base_uri": "https://localhost:8080/",
          "height": 306
        },
        "id": "428kCK-AaPxb",
        "outputId": "15cbb281-63b7-4171-aa56-2adc5be19931"
      },
      "execution_count": 60,
      "outputs": [
        {
          "output_type": "execute_result",
          "data": {
            "text/plain": [
              "Text(0, 0.5, 'Intensity [a.u.]')"
            ]
          },
          "metadata": {},
          "execution_count": 60
        },
        {
          "output_type": "display_data",
          "data": {
            "text/plain": [
              "<Figure size 432x288 with 1 Axes>"
            ],
            "image/png": "[encoded data removed]"
          },
          "metadata": {
            "needs_background": "light"
          }
        }
      ]
    },
    {
      "cell_type": "code",
      "source": [
        ""
      ],
      "metadata": {
        "id": "LI3PH1lZ96pO"
      },
      "execution_count": null,
      "outputs": []
    }
  ]
}
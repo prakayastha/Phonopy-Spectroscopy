{
  "nbformat": 4,
  "nbformat_minor": 0,
  "metadata": {
    "colab": {
      "name": "Untitled1.ipynb",
      "provenance": [],
      "authorship_tag": "ABX9TyPcoOQiuqhYN+yNt2QlzGeP",
      "include_colab_link": true
    },
    "kernelspec": {
      "name": "python3",
      "display_name": "Python 3"
    },
    "language_info": {
      "name": "python"
    }
  },
  "cells": [
    {
      "cell_type": "markdown",
      "metadata": {
        "id": "view-in-github",
        "colab_type": "text"
      },
      "source": [
        "<a href=\"https://colab.research.google.com/github/prakayastha/Phonopy-Spectroscopy/blob/master/plotting.ipynb\" target=\"_parent\"><img src=\"https://colab.research.google.com/assets/colab-badge.svg\" alt=\"Open In Colab\"/></a>"
      ]
    },
    {
      "cell_type": "code",
      "execution_count": 29,
      "metadata": {
        "id": "MfXdL5YPbULy"
      },
      "outputs": [],
      "source": [
        "from scipy import constants, signal\n",
        "from numpy import array, reshape, zeros, ones, linalg, identity, float64, append, sqrt, arange, newaxis, delete, sum\n",
        "import copy, os, shutil\n",
        "from sklearn import preprocessing\n",
        "import numpy as np\n",
        "import time\n",
        "import sys\n",
        "from pylab import figure\n",
        "from pylab import savetxt, transpose, eig, argsort, sort, sign, pi, dot, sum, linspace, argmin, r_, convolve\n",
        "def lorentz(pi,g,x):\n",
        "    \"\"\"\n",
        "      Lorentzian function\n",
        "    \"\"\"\n",
        "    x0 = (x.max()-x.min())-x.min()\n",
        "    lr = ((g**2)/((x-0.5*x0)**2+g**2))\n",
        "    return lr - lr.min()\n",
        "\n",
        "broadening = 1"
      ]
    },
    {
      "cell_type": "code",
      "source": [
        "freq = np.array([127.691706,     127.691706,     300.321202,     351.617771,     404.654824,     418.134992,     440.688925,     440.688925,     740.678063,     754.161130,     754.161130,     1034.266948,     1043.616592,     1043.616592,     1093.200040])\n",
        "infrared_intensity = np.array([0.015509, 0.015497, 0.000000, 0.000000, 0.000000, 1.276862, 0.932575, 0.932966, 0.000000, 0.361578, 0.361057, 0.965175, 0.855153, 0.855016, 0.000000])\n",
        "x=linspace(freq.min()-500,freq.max()+500,1000)\n",
        "z=zeros(len(x))\n",
        "z2=zeros(len(x))\n",
        "\n",
        "for i in range(len(freq)):\n",
        "        z[argmin(abs(x-freq[i]))]=infrared_intensity[i]\n",
        "window_len=150\n",
        "lorentzian=lorentz(pi,broadening,arange(250))#signal.gaussian(window_len,broadening)\n",
        "s=r_[z[window_len-1:0:-1],z,z[-1:-window_len:-1]]\n",
        "z_convolve=convolve(lorentzian/lorentzian.sum(),s,mode='same')[window_len-1:-window_len+1]\n",
        "fig=figure(0)\n",
        "ax=fig.add_subplot(111)\n",
        "ax.plot(x,z_convolve,'r',lw=2)\n",
        "ax.set_xlim([freq.min()+90,freq.max()+50])\n",
        "ax.set_ylim([-0.008,ax.get_ylim()[1]])\n",
        "ax.set_yticks([])\n",
        "ax.set_xlabel('Frequency [1/cm]',size=20)\n",
        "ax.set_ylabel('Intensity [a.u.]',size=20)\n",
        "\n",
        "#fig.savefig(name+'_IR_spectrum.pdf')"
      ],
      "metadata": {
        "colab": {
          "base_uri": "https://localhost:8080/",
          "height": 306
        },
        "id": "D4aC1SDQbZnJ",
        "outputId": "7fa81da8-6830-4ddd-b308-63893279a0a3"
      },
      "execution_count": 30,
      "outputs": [
        {
          "output_type": "execute_result",
          "data": {
            "text/plain": [
              "Text(0, 0.5, 'Intensity [a.u.]')"
            ]
          },
          "metadata": {},
          "execution_count": 30
        },
        {
          "output_type": "display_data",
          "data": {
            "text/plain": [
              "<Figure size 432x288 with 1 Axes>"
            ],
            "image/png": "[encoded data removed]"
          },
          "metadata": {
            "needs_background": "light"
          }
        }
      ]
    },
    {
      "cell_type": "code",
      "source": [
        "freq = np.array([127.62344912,                   127.62472229,                 300.40198063,                 351.59071827,                 404.68319517,                 418.12510063,                 440.75187960,                 440.75226537,                 740.64086067,                 754.11585713,                 754.11613728,                 1034.12847532,                 1043.46531950,                 1043.46541217,                 1093.07239928])\n",
        "infrared_intensity = np.array([0.015509, 0.015497, 0.000000, 0.000000, 0.000000, 1.276862, 0.932575, 0.932966, 0.000000, 0.361578, 0.361057, 0.965175, 0.855153, 0.855016, 0.000000])\n",
        "x=linspace(freq.min()-500,freq.max()+500,1000)\n",
        "z=zeros(len(x))\n",
        "z2=zeros(len(x))\n",
        "\n",
        "for i in range(len(freq)):\n",
        "        z[argmin(abs(x-freq[i]))]=infrared_intensity[i]\n",
        "window_len=150\n",
        "lorentzian=lorentz(pi,broadening,arange(250))#signal.gaussian(window_len,broadening)\n",
        "s=r_[z[window_len-1:0:-1],z,z[-1:-window_len:-1]]\n",
        "z_convolve=convolve(lorentzian/lorentzian.sum(),s,mode='same')[window_len-1:-window_len+1]\n",
        "fig=figure(0)\n",
        "ax=fig.add_subplot(111)\n",
        "ax.plot(x,z_convolve,'r',lw=2)\n",
        "ax.set_xlim([freq.min()+90,freq.max()+50])\n",
        "ax.set_ylim([-0.008,ax.get_ylim()[1]])\n",
        "ax.set_yticks([])\n",
        "ax.set_xlabel('Frequency [1/cm]',size=20)\n",
        "ax.set_ylabel('Intensity [a.u.]',size=20)"
      ],
      "metadata": {
        "colab": {
          "base_uri": "https://localhost:8080/",
          "height": 306
        },
        "id": "J9XYxKzfReJI",
        "outputId": "39c3eed8-3b10-4ad8-b84a-a14ff43e87a3"
      },
      "execution_count": 31,
      "outputs": [
        {
          "output_type": "execute_result",
          "data": {
            "text/plain": [
              "Text(0, 0.5, 'Intensity [a.u.]')"
            ]
          },
          "metadata": {},
          "execution_count": 31
        },
        {
          "output_type": "display_data",
          "data": {
            "text/plain": [
              "<Figure size 432x288 with 1 Axes>"
            ],
            "image/png": "[encoded data removed]"
          },
          "metadata": {
            "needs_background": "light"
          }
        }
      ]
    },
    {
      "cell_type": "code",
      "source": [
        ""
      ],
      "metadata": {
        "id": "428kCK-AaPxb"
      },
      "execution_count": null,
      "outputs": []
    }
  ]
}